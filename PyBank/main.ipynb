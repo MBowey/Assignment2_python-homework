{
 "cells": [
  {
   "cell_type": "code",
   "execution_count": 1,
   "metadata": {},
   "outputs": [],
   "source": [
    "# PyBank Coding\n",
    "\n",
    "\"\"\"\n",
    "This script demonstrates how to analyze the profit/losses of PyBank \n",
    "on a month-to-month basis. This script will also determine the total \n",
    "time period that is being analyzed.\n",
    "\"\"\"\n",
    "\n",
    "# Import the pathlib and csv library\n",
    "from pathlib import Path\n",
    "import csv\n",
    "\n",
    "# Set the file path\n",
    "csvpath = Path('Resources/budget_data.csv')\n",
    "\n",
    "# Initialize list to hold monthly profit/loss\n",
    "data = []\n",
    "\n",
    "# # Initialize the metric variables\n",
    "month = 0\n",
    "total_income = 0\n",
    "total_change = 0\n",
    "change = 0\n",
    "average_change = 0\n",
    "greatest_increase = 0\n",
    "increase_date = \" \"\n",
    "greatest_decrease = 0\n",
    "decrease_date = \" \"\n",
    "\n",
    "# Open the input path as a file object\n",
    "with open(csvpath, 'r') as csvfile:\n",
    "\n",
    "    # Pass in the csv file to the csv.reader() function\n",
    "    # (with ',' as the delmiter/separator) and return the csvreader object\n",
    "    csvreader = csv.reader(csvfile, delimiter=',')\n",
    "    \n",
    "    # Read the header row first\n",
    "    header = next(csvreader)\n",
    "    \n",
    "    # Read each row of data after the header\n",
    "    for row in csvreader:\n",
    "        \n",
    "        # Set the 'date', 'income', 'month' variables for better\n",
    "        # readability, convert strings to ints for numerical calculations\n",
    "        date = row[0]\n",
    "        income = int(row[1])\n",
    "        data.append([date,income,month])\n",
    "\n",
    "        # Calculate total income\n",
    "        total_income = total_income + income\n",
    "        \n",
    "        # Calculate the month-to-month change in income and add it to data list\n",
    "        if month == 0:\n",
    "            data[month].append(\"n/a\")\n",
    "        else:\n",
    "            change = data[month][1] - data[month-1][1]\n",
    "            data[month].append(change)\n",
    "            total_change = total_change + change\n",
    "         \n",
    "\n",
    "        # Write logic to determine the greatest increase and decrease in profits\n",
    "        if change < greatest_decrease or month == 1:\n",
    "            greatest_decrease = change\n",
    "            decrease_date = date\n",
    "        if change > greatest_increase:\n",
    "            greatest_increase = change\n",
    "            increase_date = date\n",
    "            \n",
    "        # Calculate total number of months \n",
    "        month = month + 1\n",
    "    "
   ]
  },
  {
   "cell_type": "code",
   "execution_count": 2,
   "metadata": {},
   "outputs": [],
   "source": [
    "# Calculate the average changes in Profit/Losses over the entire period   \n",
    "average_change = total_change / (month-1)"
   ]
  },
  {
   "cell_type": "code",
   "execution_count": 3,
   "metadata": {},
   "outputs": [
    {
     "name": "stdout",
     "output_type": "stream",
     "text": [
      "---------Summary Statistics----------\n",
      "Total Number of Months: 86\n",
      "Total Profit: $38,382,578\n",
      "Average Change: $-2,315.12\n",
      "Greatest Increase in Profits: Feb-2012 ($1,926,159)\n",
      "Greatest Decrease in Profits: Sep-2013 ($-2,196,167)\n",
      "\n"
     ]
    }
   ],
   "source": [
    "# Assign summary statistics to output variable and print it\n",
    "output_statistics = f\"\"\"---------Summary Statistics----------\n",
    "Total Number of Months: {month}\n",
    "Total Profit: ${total_income:,.0f}\n",
    "Average Change: ${average_change:,.2f}\n",
    "Greatest Increase in Profits: {increase_date} (${greatest_increase:,.0f})\n",
    "Greatest Decrease in Profits: {decrease_date} (${greatest_decrease:,.0f})\n",
    "\"\"\"\n",
    "\n",
    "print(output_statistics)"
   ]
  },
  {
   "cell_type": "code",
   "execution_count": 4,
   "metadata": {},
   "outputs": [],
   "source": [
    "# Open new file as a file object\n",
    "with open('output.txt', 'w') as csv_output_file:\n",
    "    \n",
    "    # Set the file object as a csvwriter object\n",
    "    csvwriter = csv.writer(csv_output_file)\n",
    "    \n",
    "    # Write the summary output statistics to output.txt file\n",
    "    csv_output_file.write(output_statistics)\n",
    "\n"
   ]
  }
 ],
 "metadata": {
  "kernelspec": {
   "display_name": "Python 3",
   "language": "python",
   "name": "python3"
  },
  "language_info": {
   "codemirror_mode": {
    "name": "ipython",
    "version": 3
   },
   "file_extension": ".py",
   "mimetype": "text/x-python",
   "name": "python",
   "nbconvert_exporter": "python",
   "pygments_lexer": "ipython3",
   "version": "3.7.9"
  }
 },
 "nbformat": 4,
 "nbformat_minor": 4
}
