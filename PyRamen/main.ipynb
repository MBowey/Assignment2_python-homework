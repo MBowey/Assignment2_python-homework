{
 "cells": [
  {
   "cell_type": "code",
   "execution_count": 1,
   "metadata": {},
   "outputs": [],
   "source": [
    "# -*- coding: UTF-8 -*-\n",
    "\"\"\"PyRamen Homework Starter.\"\"\"\n",
    "\n",
    "# @TODO: Import libraries\n",
    "from pathlib import Path\n",
    "import csv\n",
    "\n",
    "\n",
    "# @TODO: Set file paths for menu_data.csv and sales_data.csv\n",
    "menu_filepath = Path('Resources/menu_data.csv')\n",
    "sales_filepath = Path('Resources/sales_data.csv')\n"
   ]
  },
  {
   "cell_type": "code",
   "execution_count": 2,
   "metadata": {},
   "outputs": [
    {
     "name": "stdout",
     "output_type": "stream",
     "text": [
      "['item', 'category', 'description', 'price', 'cost'] <---------HEADER\n",
      "[['edamame', 'appetizers', ['boiled soybeans, maldon sea salt'], 4.0, 1.0], ['house salad', 'appetizers', ['mixed greens, cherry tomatoes, cucumber, house ginger dressing'], 4.0, 2.0], ['cucumber sunomono salad', 'appetizers', ['cucumber, ponzu dressing, pickled ginger sproud, sesame seeds'], 5.0, 2.0], ['hiyashi wakame seaweed salad', 'appetizers', ['sweet soy-marinated wakame seaweed threads, pickled ginger sprout, sesame seeds'], 5.0, 2.0], ['agedashi tofu', 'appetizers', ['tempura battered tofu, katsuobushi, tsuyu broth, scallions'], 5.0, 2.0], ['hiyayakko tofu', 'appetizers', ['chilled soft tofu, house shoyu, katsuobushi, ginger, scallions'], 5.0, 2.0], ['pork floss bao', 'appetizers', ['two steamed buns, minced lean slow braised niman, ranch pork belly, cucumbers, sriracha mayo'], 4.0, 2.0], ['kakuni bao', 'appetizers', ['two steamed buns, chopped fatty slow braised niman ranch pork belly, cucumbers, house bao sauce'], 6.0, 3.0], ['edamame fried gyoza (vegan)', 'appetizers', ['six crispy fried edamame and cabbage pot stickers; ponzu rayu dipping sauce'], 6.0, 3.0], ['fried gyoza', 'appetizers', ['six cripsy fried pork and vegetable pot stickers; ponzu rayu dipping sauce'], 6.0, 6.0], ['takoyaki', 'appetizers', ['six octopus-filled fried fritters, kewpie mayo, okonomi sauce, aonori, katsuobushi, nori'], 6.0, 3.0], ['rock shrimp tempura', 'appetizers', ['deep fried tempura battered rock shrimp, sriracha mayo, nisume sauce, aonori, scallions'], 6.0, 3.0], ['soft-shell crab tempura', 'appetizers', ['single deep fried soft-shell crab, tsuyu dipping broth'], 6.0, 3.0], ['ebi katsu shrimp bao', 'appetizers', ['two steamed buns, panko-crusted fried shrimp patties, yuzu-kosho mayo, aonori, scallions'], 6.0, 3.0], ['nagomi shoyu', 'entree', ['shoyu seasoned clear double stock (organic chick broth + house dashi); slow braised niman ranch pork belly, hanjuku tamago, nori, menma, scallions'], 11.0, 5.0], ['shio ramen', 'entree', ['sea salt seasoned clear double stock (organic chicken broth + house dashi); slow braised niman ranch pork belly, hanjuku tamago, kikurage, nori, scallions'], 11.0, 5.0], ['spicy miso ramen', 'entree', ['house togarashi miso blend + niman ranch pork bone stock; slow braised niman ranch pork belly, hanjuku tamago, kikurage, nori, scallions'], 12.0, 5.0], ['vegetarian spicy miso', 'entree', ['house togarashi miso blend + vegan dashi; tempura fried tofu, sweet corn, edamame, kikurage, nori, scallions; organic soy milk upon request'], 12.0, 5.0], ['miso crab ramen', 'entree', ['house miso crab blend + vegan dashi; slow braised niman ranch pork belly, crab meat, hanjuku tamago, kikurage, nori, scallions'], 12.0, 6.0], ['soft-shell miso crab ramen', 'entree', ['house miso crab blend + vegan dashi; fried whole soft-shell crab, hanjuku tamago, kikurage, nori, scallions'], 14.0, 7.0], ['tori paitan ramen', 'entree', ['rich, shoyu seasoned double stock (organic chicken broth + house dashi); slow braised niman ranch pork belly, hanuku tamago, kikurage, nori, scllaions'], 13.0, 6.0], ['tonkotsu ramen', 'entree', ['rich, shoyi seasoned niman ranch pork bone stock; slow braised niman ranch pork belly, hanjuku tamago, kikurage, nori, spring radish, scallions'], 13.0, 6.0], ['burnt garlic tonkotsu ramen', 'entree', ['rich, shoyi and burnt garlic seasoned niman ranch pork bone stock; slow braised niman ranch pork belly, hanjuku tamago, kikurage, sweet corn, nori, scallions'], 14.0, 6.0], ['vegetarian curry + king trumpet mushroom ramen', 'entree', ['house curry blend + vegan dashi; fried king trumpet mushroom, tempura fried tofu, mung bean sprouts, kikurage, nori, scallions'], 13.0, 7.0], ['truffle butter ramen', 'entree', ['rich, shoyu seasoned niman ranch prok bone stock; truffle compound butter, slow braised niman ranch pork belly, kikurage, sweet corn, nori, scallions'], 14.0, 7.0], ['green tea', 'drinks', ['green tea'], 2.5, 1.0], ['coke', 'drinks', ['Coca Cola soda'], 2.0, 1.0], ['black sesame ice cream', 'desserts', ['house-made black sesame ice cream, valrhona chocolate threads, complimentary hojicha'], 5.0, 2.0], ['matcha ice cream', 'desserts', ['house-made matcha ice cream, white chocolate pearls; complimentary hojicha'], 5.0, 2.0], ['mango mochi ice cream', 'desserts', ['two rice-cake bonbons filled with strawberry ice cream; complimentary hojicha'], 5.0, 2.0], ['strawberry mochi ice cream', 'desserts', ['two rice-cake bonbons filled with strawberry ice cream; complimentary hojicha'], 5.0, 2.0], ['black sesame creme brulee', 'desserts', ['house made black sesame infused creme brulee; complimentary hojicha'], 6.0, 3.0]]\n"
     ]
    }
   ],
   "source": [
    "# Initialize list object to hold menu data and a row counter variable\n",
    "menu = []\n",
    "menu_item_count = 0\n",
    "\n",
    "# @TODO: Read in the menu data into the menu list\n",
    "with open(menu_filepath, 'r') as menu_file:\n",
    "\n",
    "        # Pass in the csv file to the csv.reader() function\n",
    "        # (with ',' as the delmiter/separator) and return the csvreader object\n",
    "        menu_reader = csv.reader(menu_file, delimiter=',')\n",
    "\n",
    "        # Read the header row first and print it\n",
    "        menu_header = next(menu_reader)\n",
    "        print(f\"{menu_header} <---------HEADER\")\n",
    "        \n",
    "        # Read each row of data after the header\n",
    "        for menu_row in menu_reader:\n",
    "            # Set the 'item', 'category','description', 'price' and 'cost' variables for better\n",
    "            # readability, convert strings to ints for numerical calculations\n",
    "            item = menu_row[0]\n",
    "            category = menu_row[1]\n",
    "            description = [menu_row[2]]\n",
    "            price = float(menu_row[3])\n",
    "            cost = float(menu_row[4])\n",
    "            menu.append([item,category,description,price,cost])\n",
    "\n",
    "            menu_item_count = menu_item_count + 1\n",
    "\n",
    "print(menu)\n",
    "\n"
   ]
  },
  {
   "cell_type": "code",
   "execution_count": 3,
   "metadata": {},
   "outputs": [
    {
     "name": "stdout",
     "output_type": "stream",
     "text": [
      "['Line_Item_ID', 'Date', 'Credit_Card_Number', 'Quantity', 'Menu_Item'] <---------HEADER\n",
      "['1', '01-01-2017', '7437926611570799', '1', 'spicy miso ramen']\n"
     ]
    }
   ],
   "source": [
    "# Initialize list object to hold sales data and a row counter variable\n",
    "sales_count = 0\n",
    "sales = []\n",
    "\n",
    "# @TODO: Read in the sales data into the sales list \n",
    "with open(sales_filepath, 'r') as sales_file:\n",
    "\n",
    "        # Pass in the csv file to the csv.reader() function\n",
    "        # (with ',' as the delmiter/separator) and return the csvreader object\n",
    "        sales_reader = csv.reader(sales_file, delimiter=',')\n",
    "\n",
    "        # Read the header row first and print it\n",
    "        sales_header = next(sales_reader)\n",
    "        print(f\"{sales_header} <---------HEADER\")\n",
    "\n",
    "        # Read each row of data after the header\n",
    "        for sales_row in sales_reader:\n",
    "            \n",
    "            # Set the 'Line_Item_ID', 'Date','Credit_Card_Number', 'Quantity' and 'Menu_Item' \n",
    "            # variables for better readability\n",
    "            Line_Item_ID = sales_row[0]\n",
    "            Date = sales_row[1]\n",
    "            Credit_Card_Number = sales_row[2]\n",
    "            Quantity = sales_row[3]\n",
    "            Menu_Item_1 = sales_row[4]\n",
    "            sales.append([Line_Item_ID,Date,Credit_Card_Number,Quantity,Menu_Item_1])\n",
    "\n",
    "            sales_count = sales_count + 1\n",
    "\n",
    "print(sales[0])             \n"
   ]
  },
  {
   "cell_type": "code",
   "execution_count": 6,
   "metadata": {},
   "outputs": [
    {
     "name": "stdout",
     "output_type": "stream",
     "text": [
      "{'spicy miso ramen': {'01-count': 9239, '02-revenue': 6802, '03-cogs': 0, '04-profit': 0}, 'tori paitan ramen': {'01-count': 9159, '02-revenue': 6818, '03-cogs': 0, '04-profit': 0}, 'truffle butter ramen': {'01-count': 8983, '02-revenue': 6726, '03-cogs': 0, '04-profit': 0}, 'tonkotsu ramen': {'01-count': 9289, '02-revenue': 6800, '03-cogs': 0, '04-profit': 0}, 'vegetarian spicy miso': {'01-count': 9217, '02-revenue': 6822, '03-cogs': 0, '04-profit': 0}, 'shio ramen': {'01-count': 9181, '02-revenue': 6744, '03-cogs': 0, '04-profit': 0}, 'miso crab ramen': {'01-count': 8894, '02-revenue': 6554, '03-cogs': 0, '04-profit': 0}, 'nagomi shoyu': {'01-count': 9133, '02-revenue': 6660, '03-cogs': 0, '04-profit': 0}, 'soft-shell miso crab ramen': {'01-count': 9131, '02-revenue': 6742, '03-cogs': 0, '04-profit': 0}, 'burnt garlic tonkotsu ramen': {'01-count': 9071, '02-revenue': 6770, '03-cogs': 0, '04-profit': 0}, 'vegetarian curry + king trumpet mushroom ramen': {'01-count': 8825, '02-revenue': 6686, '03-cogs': 0, '04-profit': 0}}\n"
     ]
    }
   ],
   "source": [
    "# @TODO: Initialize dict object to hold our key-value pairs of items and metrics\n",
    "report = {}\n",
    "\n",
    "# Initialize a row counter variable\n",
    "sales_count = 0\n",
    "menu_row = 0\n",
    "\n",
    "# @TODO: Loop over every row in the sales list object\n",
    "for row in sales:    \n",
    "    \n",
    "    # Line_Item_ID, Date, Credit_Card_Number, Quantity, Menu_Item\n",
    "    # @TODO: Initialize sales data variables \n",
    "    quantity = int(row[3])\n",
    "    sales_item = row[4]\n",
    "    \n",
    "    \n",
    "    # @TODO:\n",
    "    # If the item value not in the report, add it as a new entry with initialized metrics\n",
    "    # Naming convention allows the keys to be ordered in logical fashion, count, revenue, cost, profit\n",
    "    if sales_item not in report.keys():\n",
    "        report[sales_item] = {'01-count': quantity,'02-revenue': 0, '03-cogs': 0, '04-profit': 0}\n",
    "        \n",
    "        \n",
    "    if sales_item in report.keys():\n",
    "        report[sales_item]['01-count'] = report[sales_item]['01-count'] + quantity\n",
    "        \n",
    "    # @TODO: For every row in our sales data, loop over the menu records to determine a match \n",
    "    \n",
    "    for row_menu in menu:\n",
    "        # Item,Category,Description,Price,Cost\n",
    "        # @TODO: Initialize menu data variables\n",
    "        \n",
    "        Item = row_menu[0]\n",
    "        Price = float(row_menu[3])\n",
    "        Cost = float(row_menu[4])\n",
    "        \n",
    "        if sales_item == Item:\n",
    "             report[sales_item]['02-revenue'] = report[sales_item]['02-revenue'] + 1\n",
    "       \n",
    "             \n",
    "\n",
    "print(report)     \n",
    "\n",
    " "
   ]
  },
  {
   "cell_type": "code",
   "execution_count": null,
   "metadata": {},
   "outputs": [],
   "source": [
    "\n",
    "\n",
    "\n",
    "\n",
    "    \n",
    "\n",
    "\n",
    "\n",
    "\n",
    "    # @TODO: For every row in our sales data, loop over the menu records to determine a match\n",
    "\n",
    "\n",
    "        # Item,Category,Description,Price,Cost\n",
    "        # @TODO: Initialize menu data variables\n",
    "\n",
    "\n",
    "\n",
    "\n",
    "        # @TODO: Calculate profit of each item in the menu data\n",
    "\n",
    "\n",
    "        # @TODO: If the item value in our sales data is equal to the any of the items in the menu, then begin tracking metrics for that item\n",
    "\n",
    "\n",
    "            # @TODO: Print out matching menu data\n",
    "\n",
    "\n",
    "\n",
    "\n",
    "\n",
    "\n",
    "            # @TODO: Cumulatively add up the metrics for each item key\n",
    "\n",
    "\n",
    "\n",
    "\n",
    "\n",
    "        # @TODO: Else, the sales item does not equal any fo the item in the menu data, therefore no match\n",
    "\n",
    "\n",
    "\n",
    "    # @TODO: Increment the row counter by 1\n",
    "\n",
    "\n",
    "# @TODO: Print total number of records in sales data\n",
    "\n",
    "\n",
    "\n",
    "\n",
    "# @TODO: Write out report to a text file (won't appear on the command line output)"
   ]
  }
 ],
 "metadata": {
  "kernelspec": {
   "display_name": "Python 3",
   "language": "python",
   "name": "python3"
  },
  "language_info": {
   "codemirror_mode": {
    "name": "ipython",
    "version": 3
   },
   "file_extension": ".py",
   "mimetype": "text/x-python",
   "name": "python",
   "nbconvert_exporter": "python",
   "pygments_lexer": "ipython3",
   "version": "3.7.9"
  }
 },
 "nbformat": 4,
 "nbformat_minor": 4
}
