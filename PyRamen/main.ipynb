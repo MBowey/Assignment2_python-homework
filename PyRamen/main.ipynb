{
 "cells": [
  {
   "cell_type": "code",
   "execution_count": 1,
   "metadata": {},
   "outputs": [],
   "source": [
    "# -*- coding: UTF-8 -*-\n",
    "\"\"\"PyRamen Homework Starter.\"\"\"\n",
    "\n",
    "# @TODO: Import libraries\n",
    "from pathlib import Path\n",
    "import csv\n",
    "\n",
    "\n",
    "# @TODO: Set file paths for menu_data.csv and sales_data.csv\n",
    "menu_filepath = Path('Resources/menu_data.csv')\n",
    "sales_filepath = Path('Resources/sales_data.csv')\n",
    "\n",
    "# @TODO: Initialize list objects to hold our menu and sales data\n",
    "menu = []\n",
    "sales = []\n",
    "\n",
    "menu_items = 0\n",
    "sales_items = 0"
   ]
  },
  {
   "cell_type": "code",
   "execution_count": 2,
   "metadata": {},
   "outputs": [
    {
     "name": "stdout",
     "output_type": "stream",
     "text": [
      "['item', 'category', 'description', 'price', 'cost'] <---------HEADER\n",
      "['hiyashi wakame seaweed salad', 'appetizers', ['sweet soy-marinated wakame seaweed threads, pickled ginger sprout, sesame seeds'], 5.0, 2.0]\n"
     ]
    }
   ],
   "source": [
    "\n",
    "# @TODO: Read in the menu data into the menu list\n",
    "with open(menu_filepath, 'r') as menu_file:\n",
    "\n",
    "        # Pass in the csv file to the csv.reader() function\n",
    "        # (with ',' as the delmiter/separator) and return the csvreader object\n",
    "        menu_reader = csv.reader(menu_file, delimiter=',')\n",
    "\n",
    "        # Read the header row first and print it\n",
    "        menu_header = next(menu_reader)\n",
    "        print(f\"{menu_header} <---------HEADER\")\n",
    "        \n",
    "        for menu_row in menu_reader:\n",
    "            # Set the 'item', 'category','description', 'price' and 'cost' variables for better\n",
    "            # readability, convert strings to ints for numerical calculations\n",
    "            item = menu_row[0]\n",
    "            category = menu_row[1]\n",
    "            description = [menu_row[2]]\n",
    "            price = float(menu_row[3])\n",
    "            cost = float(menu_row[4])\n",
    "            menu.append([item,category,description,price,cost])\n",
    "\n",
    "            menu_items = menu_items + 1\n",
    "\n",
    "print(menu[3])\n",
    "\n"
   ]
  },
  {
   "cell_type": "code",
   "execution_count": 3,
   "metadata": {},
   "outputs": [
    {
     "name": "stdout",
     "output_type": "stream",
     "text": [
      "['Line_Item_ID', 'Date', 'Credit_Card_Number', 'Quantity', 'Menu_Item'] <---------HEADER\n"
     ]
    }
   ],
   "source": [
    "# @TODO: Initialize dict object to hold our key-value pairs of items and metrics\n",
    "report = {}\n",
    "\n",
    "# Initialize a row counter variable\n",
    "row_count = 0\n",
    "\n",
    "\n",
    "# @TODO: Read in the sales data into the sales list \n",
    "with open(sales_filepath, 'r') as sales_file:\n",
    "\n",
    "        # Pass in the csv file to the csv.reader() function\n",
    "        # (with ',' as the delmiter/separator) and return the csvreader object\n",
    "        sales_reader = csv.reader(sales_file, delimiter=',')\n",
    "\n",
    "        # Read the header row first and print it\n",
    "        sales_header = next(sales_reader)\n",
    "        print(f\"{sales_header} <---------HEADER\")\n",
    "\n",
    "        for sales_row in sales_reader:\n",
    "            # Line_Item_ID,Date,Credit_Card_Number,Quantity,Menu_Item\n",
    "            # @TODO: Initialize sales data variables\n",
    "            Line_Item_ID_C = sales_row[0]\n",
    "            Date_C = sales_row[1]\n",
    "            Credit_Card_Number_C = sales_row[2]\n",
    "            Quantity_C = sales_row[3]\n",
    "            Menu_Item_C = sales_row[4]\n",
    "            sales.append([Line_Item_ID_C,Date_C,Credit_Card_Number_C,Quantity_C,Menu_Item_C])\n",
    "\n",
    "            sales_items = sales_items + 1\n",
    "                  \n"
   ]
  },
  {
   "cell_type": "code",
   "execution_count": 20,
   "metadata": {},
   "outputs": [
    {
     "name": "stdout",
     "output_type": "stream",
     "text": [
      "tori paitan ramen\n",
      "3\n"
     ]
    }
   ],
   "source": [
    "# @TODO: Initialize dict object to hold our key-value pairs of items and metrics\n",
    "report = {}\n",
    "\n",
    "# Initialize a row counter variable\n",
    "row_count = 0\n",
    "Quantity = []\n",
    "Menu_Item = []\n",
    "\n",
    "        # @TODO: Loop over every row in the sales list object\n",
    "    \n",
    "for item in sales:\n",
    "    if not item in Menu_Item:\n",
    "    Menu_Item.append(sales[row_count][4])\n",
    "            \n",
    "    row_count = row_count + 1 \n",
    "    \n",
    "    # @TODO:\n",
    "        # If the item value not in the report, add it as a new entry with initialized metrics\n",
    "        # Naming convention allows the keys to be ordered in logical fashion, count, revenue, cost, profit\n",
    "\n",
    "print(Menu_List[2])\n",
    "print(Quantity[2])  \n",
    "            "
   ]
  },
  {
   "cell_type": "code",
   "execution_count": null,
   "metadata": {},
   "outputs": [],
   "source": [
    "\n",
    "\n",
    "\n",
    "\n",
    "    \n",
    "\n",
    "\n",
    "\n",
    "\n",
    "    # @TODO: For every row in our sales data, loop over the menu records to determine a match\n",
    "\n",
    "\n",
    "        # Item,Category,Description,Price,Cost\n",
    "        # @TODO: Initialize menu data variables\n",
    "\n",
    "\n",
    "\n",
    "\n",
    "        # @TODO: Calculate profit of each item in the menu data\n",
    "\n",
    "\n",
    "        # @TODO: If the item value in our sales data is equal to the any of the items in the menu, then begin tracking metrics for that item\n",
    "\n",
    "\n",
    "            # @TODO: Print out matching menu data\n",
    "\n",
    "\n",
    "\n",
    "\n",
    "\n",
    "\n",
    "            # @TODO: Cumulatively add up the metrics for each item key\n",
    "\n",
    "\n",
    "\n",
    "\n",
    "\n",
    "        # @TODO: Else, the sales item does not equal any fo the item in the menu data, therefore no match\n",
    "\n",
    "\n",
    "\n",
    "    # @TODO: Increment the row counter by 1\n",
    "\n",
    "\n",
    "# @TODO: Print total number of records in sales data\n",
    "\n",
    "\n",
    "\n",
    "\n",
    "# @TODO: Write out report to a text file (won't appear on the command line output)"
   ]
  }
 ],
 "metadata": {
  "kernelspec": {
   "display_name": "Python 3",
   "language": "python",
   "name": "python3"
  },
  "language_info": {
   "codemirror_mode": {
    "name": "ipython",
    "version": 3
   },
   "file_extension": ".py",
   "mimetype": "text/x-python",
   "name": "python",
   "nbconvert_exporter": "python",
   "pygments_lexer": "ipython3",
   "version": "3.7.9"
  }
 },
 "nbformat": 4,
 "nbformat_minor": 4
}
