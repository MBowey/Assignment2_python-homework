{
 "cells": [
  {
   "cell_type": "code",
   "execution_count": null,
   "metadata": {},
   "outputs": [],
   "source": [
    "# -*- coding: UTF-8 -*-\n",
    "\"\"\"PyRamen Homework Starter.\"\"\"\n",
    "\n",
    "# @TODO: Import libraries\n",
    "from pathlib import Path\n",
    "import csv\n",
    "\n",
    "\n",
    "# @TODO: Set file paths for menu_data.csv and sales_data.csv\n",
    "menu_filepath = Path('Resources/menu_data.csv')\n",
    "sales_filepath = Path('Resources/sales_data.csv')\n"
   ]
  },
  {
   "cell_type": "code",
   "execution_count": null,
   "metadata": {},
   "outputs": [],
   "source": [
    "# Initialize list object to hold menu data and a row counter variable\n",
    "menu = []\n",
    "menu_item_count = 0\n",
    "\n",
    "# @TODO: Read in the menu data into the menu list\n",
    "with open(menu_filepath, 'r') as menu_file:\n",
    "\n",
    "        # Pass in the csv file to the csv.reader() function\n",
    "        # (with ',' as the delmiter/separator) and return the csvreader object\n",
    "        menu_reader = csv.reader(menu_file, delimiter=',')\n",
    "\n",
    "        # Read the header row first and print it\n",
    "        menu_header = next(menu_reader)\n",
    "        print(f\"{menu_header} <---------HEADER\")\n",
    "        \n",
    "        # Read each row of data after the header\n",
    "        for menu_row in menu_reader:\n",
    "            # Set the 'item', 'category','description', 'price' and 'cost' variables for better\n",
    "            # readability, convert strings to ints for numerical calculations\n",
    "            item = menu_row[0]\n",
    "            category = menu_row[1]\n",
    "            description = [menu_row[2]]\n",
    "            price = float(menu_row[3])\n",
    "            cost = float(menu_row[4])\n",
    "            menu.append([item,category,description,price,cost])\n",
    "\n",
    "            menu_item_count = menu_item_count + 1\n",
    "\n",
    "print(menu)\n",
    "\n"
   ]
  },
  {
   "cell_type": "code",
   "execution_count": 3,
   "metadata": {},
   "outputs": [
    {
     "name": "stdout",
     "output_type": "stream",
     "text": [
      "['Line_Item_ID', 'Date', 'Credit_Card_Number', 'Quantity', 'Menu_Item'] <---------HEADER\n",
      "['1', '01-01-2017', '7437926611570799', '1', 'spicy miso ramen']\n"
     ]
    }
   ],
   "source": [
    "# Initialize list object to hold sales data and a row counter variable\n",
    "sales_count = 0\n",
    "sales = []\n",
    "\n",
    "# @TODO: Read in the sales data into the sales list \n",
    "with open(sales_filepath, 'r') as sales_file:\n",
    "\n",
    "        # Pass in the csv file to the csv.reader() function\n",
    "        # (with ',' as the delmiter/separator) and return the csvreader object\n",
    "        sales_reader = csv.reader(sales_file, delimiter=',')\n",
    "\n",
    "        # Read the header row first and print it\n",
    "        sales_header = next(sales_reader)\n",
    "        print(f\"{sales_header} <---------HEADER\")\n",
    "\n",
    "        # Read each row of data after the header\n",
    "        for sales_row in sales_reader:\n",
    "            \n",
    "            # Set the 'Line_Item_ID', 'Date','Credit_Card_Number', 'Quantity' and 'Menu_Item' \n",
    "            # variables for better readability\n",
    "            Line_Item_ID = sales_row[0]\n",
    "            Date = sales_row[1]\n",
    "            Credit_Card_Number = sales_row[2]\n",
    "            Quantity = sales_row[3]\n",
    "            Menu_Item_1 = sales_row[4]\n",
    "            sales.append([Line_Item_ID,Date,Credit_Card_Number,Quantity,Menu_Item_1])\n",
    "\n",
    "            sales_count = sales_count + 1\n",
    "\n",
    "print(sales[0])             \n"
   ]
  },
  {
   "cell_type": "code",
   "execution_count": 4,
   "metadata": {},
   "outputs": [
    {
     "name": "stdout",
     "output_type": "stream",
     "text": [
      "Total number of records in sales data: 74124\n"
     ]
    }
   ],
   "source": [
    "# @TODO: Initialize dict object to hold our key-value pairs of items and metrics\n",
    "report = {}\n",
    "\n",
    "# Initialize a row counter variable\n",
    "row_count = 0\n",
    "\n",
    "# @TODO: Loop over every row in the sales list object\n",
    "for row in sales:    \n",
    "    \n",
    "    # Line_Item_ID, Date, Credit_Card_Number, Quantity, Menu_Item\n",
    "    # @TODO: Initialize sales data variables \n",
    "    Quantity = int(row[3])\n",
    "    sales_item = row[4]\n",
    "    \n",
    "    \n",
    "    # @TODO:\n",
    "    # If the item value not in the report, add it as a new entry with initialized metrics\n",
    "    # Naming convention allows the keys to be ordered in logical fashion, count, revenue, cost, profit\n",
    "    if sales_item not in report.keys():\n",
    "        report[sales_item] = {'01-count': 0,'02-revenue': 0, '03-cogs': 0, '04-profit': 0}\n",
    "     \n",
    "        \n",
    "    # @TODO: For every row in our sales data, loop over the menu records to determine a match \n",
    "    for row_menu in menu:\n",
    "        \n",
    "        # Item,Category,Description,Price,Cost\n",
    "        # @TODO: Initialize menu data variables  \n",
    "        Item = row_menu[0]\n",
    "        Price = float(row_menu[3])\n",
    "        Cost = float(row_menu[4])\n",
    "        \n",
    "        # @TODO: Calculate profit of each item in the menu data\n",
    "        Profit = Price - Cost\n",
    "        \n",
    "        # @TODO: If the item value in our sales data is equal to the any of the items in the menu, then begin tracking metrics for that item\n",
    "        if sales_item == Item:\n",
    "                  \n",
    "            # @TODO: Cumulatively add up the metrics for each item key\n",
    "            report[sales_item]['01-count'] += Quantity\n",
    "            report[sales_item]['02-revenue'] += Price * Quantity\n",
    "            report[sales_item]['03-cogs'] += Cost * Quantity\n",
    "            report[sales_item]['04-profit'] += Profit * Quantity\n",
    "           \n",
    "            \n",
    "        # @TODO: Else, the sales item does not equal any fo the item in the menu data, therefore no match\n",
    "        \n",
    "        elif sales_item not in report:        \n",
    "            print(f\"{sales_item} does not equal {Item}! NO MATCH!\")\n",
    "            \n",
    "\n",
    "    # @TODO: Increment the row counter by 1\n",
    " \n",
    "    row_count += 1\n",
    "\n",
    "# @TODO: Print total number of records in sales data\n",
    "\n",
    "print(f\"Total number of records in sales data: {row_count}\")\n",
    "\n",
    "\n"
   ]
  },
  {
   "cell_type": "code",
   "execution_count": 5,
   "metadata": {},
   "outputs": [
    {
     "name": "stdout",
     "output_type": "stream",
     "text": [
      "spicy miso ramen {'01-count': 9238, '02-revenue': 110856.0, '03-cogs': 46190.0, '04-profit': 64666.0}\n",
      "tori paitan ramen {'01-count': 9156, '02-revenue': 119028.0, '03-cogs': 54936.0, '04-profit': 64092.0}\n",
      "truffle butter ramen {'01-count': 8982, '02-revenue': 125748.0, '03-cogs': 62874.0, '04-profit': 62874.0}\n",
      "tonkotsu ramen {'01-count': 9288, '02-revenue': 120744.0, '03-cogs': 55728.0, '04-profit': 65016.0}\n",
      "vegetarian spicy miso {'01-count': 9216, '02-revenue': 110592.0, '03-cogs': 46080.0, '04-profit': 64512.0}\n",
      "shio ramen {'01-count': 9180, '02-revenue': 100980.0, '03-cogs': 45900.0, '04-profit': 55080.0}\n",
      "miso crab ramen {'01-count': 8890, '02-revenue': 106680.0, '03-cogs': 53340.0, '04-profit': 53340.0}\n",
      "nagomi shoyu {'01-count': 9132, '02-revenue': 100452.0, '03-cogs': 45660.0, '04-profit': 54792.0}\n",
      "soft-shell miso crab ramen {'01-count': 9130, '02-revenue': 127820.0, '03-cogs': 63910.0, '04-profit': 63910.0}\n",
      "burnt garlic tonkotsu ramen {'01-count': 9070, '02-revenue': 126980.0, '03-cogs': 54420.0, '04-profit': 72560.0}\n",
      "vegetarian curry + king trumpet mushroom ramen {'01-count': 8824, '02-revenue': 114712.0, '03-cogs': 61768.0, '04-profit': 52944.0}\n"
     ]
    }
   ],
   "source": [
    "# Assign summary statistics to output variable and print it\n",
    "for keys,values in report.items():\n",
    "    print(keys,values)\n",
    "    \n",
    "\n"
   ]
  },
  {
   "cell_type": "code",
   "execution_count": 6,
   "metadata": {},
   "outputs": [],
   "source": [
    "# @TODO: Write out report to a text file (won't appear on the command line output)\n",
    "with open('output.txt', 'w') as csv_output_file:\n",
    "    \n",
    "    # Set the file object as a csvwriter object\n",
    "    csvwriter = csv.writer(csv_output_file)\n",
    "    \n",
    "    # Write the summary output statistics to output.txt file\n",
    "    for key, value in report.items():\n",
    "        csvwriter.writerow([key,value])\n",
    "        \n",
    "\n"
   ]
  }
 ],
 "metadata": {
  "kernelspec": {
   "display_name": "Python 3",
   "language": "python",
   "name": "python3"
  },
  "language_info": {
   "codemirror_mode": {
    "name": "ipython",
    "version": 3
   },
   "file_extension": ".py",
   "mimetype": "text/x-python",
   "name": "python",
   "nbconvert_exporter": "python",
   "pygments_lexer": "ipython3",
   "version": "3.7.9"
  }
 },
 "nbformat": 4,
 "nbformat_minor": 4
}
